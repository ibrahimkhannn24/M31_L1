{
  "nbformat": 4,
  "nbformat_minor": 0,
  "metadata": {
    "colab": {
      "provenance": [],
      "include_colab_link": true
    },
    "kernelspec": {
      "name": "python3",
      "display_name": "Python 3"
    },
    "language_info": {
      "name": "python"
    }
  },
  "cells": [
    {
      "cell_type": "markdown",
      "metadata": {
        "id": "view-in-github",
        "colab_type": "text"
      },
      "source": [
        "<a href=\"https://colab.research.google.com/github/ibrahimkhannn24/M31_L1/blob/main/Copy_of_M31_Lesson_1.ipynb\" target=\"_parent\"><img src=\"https://colab.research.google.com/assets/colab-badge.svg\" alt=\"Open In Colab\"/></a>"
      ]
    },
    {
      "cell_type": "markdown",
      "source": [
        "# Game for Lesson 1"
      ],
      "metadata": {
        "id": "4FLYtdLDTnb5"
      }
    },
    {
      "cell_type": "code",
      "source": [
        "explorer_name = input(\"Enter your name, Space Explorer: \")\n",
        "mission_number = int(input(\"Enter your mission number: \"))\n",
        "\n",
        "# Data Types and Variables\n",
        "\n",
        "\n",
        "is_ready = True # tell students 'True' has to be spelled exactly like this\n",
        "print(f\"Is the player Ready?: {is_ready}\")\n",
        "destination = input(\"Which planet would you like to explore first? \")\n",
        "\n",
        "# String operations and output\n",
        "message = f\"Explorer {explorer_name}, you are on mission #{mission_number}.\"\n",
        "print(message.upper())\n",
        "print(f\"You are headed to {destination}. Good luck!\")"
      ],
      "metadata": {
        "id": "HStxppHPZVT6",
        "colab": {
          "base_uri": "https://localhost:8080/"
        },
        "outputId": "9d22d024-fbf5-42d8-a8c1-6898ddf6d55d"
      },
      "execution_count": null,
      "outputs": [
        {
          "output_type": "stream",
          "name": "stdout",
          "text": [
            "Enter your name, Space Explorer: Pulkit\n",
            "Enter your mission number: 56\n",
            "Is the player Ready?: True\n",
            "Which planet would you like to explore first? Cyborg\n",
            "EXPLORER PULKIT, YOU ARE ON MISSION #56.\n",
            "You are headed to Cyborg. Good luck!\n"
          ]
        }
      ]
    },
    {
      "cell_type": "markdown",
      "source": [
        "# Additional Code"
      ],
      "metadata": {
        "id": "KLnpCSLPTqda"
      }
    },
    {
      "cell_type": "code",
      "source": [
        "# type-coversion\n",
        "x = \"31\"\n",
        "y = int(x)\n",
        "print(type(x))\n",
        "print(type(y))"
      ],
      "metadata": {
        "colab": {
          "base_uri": "https://localhost:8080/"
        },
        "id": "AnRzlSbrTtML",
        "outputId": "76d028ee-ff7f-4096-94fe-21716ad8877c"
      },
      "execution_count": null,
      "outputs": [
        {
          "output_type": "stream",
          "name": "stdout",
          "text": [
            "<class 'str'>\n",
            "<class 'int'>\n"
          ]
        }
      ]
    },
    {
      "cell_type": "code",
      "source": [
        "is_ready = True\n",
        "print(type(is_ready))"
      ],
      "metadata": {
        "colab": {
          "base_uri": "https://localhost:8080/"
        },
        "id": "gZgLB4hHDVOu",
        "outputId": "cbb3a6cd-4f7d-4ff5-de6d-5f792b63d4e5"
      },
      "execution_count": null,
      "outputs": [
        {
          "output_type": "stream",
          "name": "stdout",
          "text": [
            "<class 'bool'>\n"
          ]
        }
      ]
    },
    {
      "cell_type": "code",
      "source": [
        "print(float(5))"
      ],
      "metadata": {
        "colab": {
          "base_uri": "https://localhost:8080/"
        },
        "id": "k3zOD9WKV8sU",
        "outputId": "8093d38b-0206-4ce6-9138-7a84aa35c50e"
      },
      "execution_count": null,
      "outputs": [
        {
          "output_type": "stream",
          "name": "stdout",
          "text": [
            "5.0\n"
          ]
        }
      ]
    },
    {
      "cell_type": "code",
      "source": [
        "a = float(5)\n",
        "b = int(5.14)\n",
        "print(a + b)"
      ],
      "metadata": {
        "colab": {
          "base_uri": "https://localhost:8080/"
        },
        "id": "EAPGBL_YV__6",
        "outputId": "36395448-b05f-4d1d-c2b8-522ccb1230da"
      },
      "execution_count": null,
      "outputs": [
        {
          "output_type": "stream",
          "name": "stdout",
          "text": [
            "10.0\n"
          ]
        }
      ]
    },
    {
      "cell_type": "code",
      "source": [],
      "metadata": {
        "id": "DJXSufwoWqyo"
      },
      "execution_count": null,
      "outputs": []
    }
  ]
}